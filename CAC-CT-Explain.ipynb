{
 "cells": [
  {
   "cell_type": "code",
   "execution_count": 1,
   "id": "51e50028-208b-4df2-9b23-ea9c341af8db",
   "metadata": {},
   "outputs": [],
   "source": [
    "import os\n",
    "import torch\n",
    "from threading import Thread\n",
    "from transformers import AutoTokenizer, StoppingCriteria, StoppingCriteriaList, TextIteratorStreamer, AutoModel\n",
    "\n",
    "os.environ['CUDA_DEVICE_ORDER'] = 'PCI_BUS_ID'\n",
    "os.environ['CUDA_VISIBLE_DEVICES'] = '0'"
   ]
  },
  {
   "cell_type": "code",
   "execution_count": 2,
   "id": "c9b956d0-1cd8-4573-965e-16b4fd9056f8",
   "metadata": {},
   "outputs": [],
   "source": [
    "MODEL_PATH = os.environ.get('MODEL_PATH', '/data/zhenyu/LLM_Model/GLM_4/GLM4_Chat/')"
   ]
  },
  {
   "cell_type": "code",
   "execution_count": 3,
   "id": "cf77e215-b0b1-4925-88f0-dd13a2994ab9",
   "metadata": {},
   "outputs": [
    {
     "name": "stderr",
     "output_type": "stream",
     "text": [
      "Special tokens have been added in the vocabulary, make sure the associated word embeddings are fine-tuned or trained.\n"
     ]
    },
    {
     "data": {
      "application/vnd.jupyter.widget-view+json": {
       "model_id": "a77fcbde675a46abac04a7683687f862",
       "version_major": 2,
       "version_minor": 0
      },
      "text/plain": [
       "Loading checkpoint shards:   0%|          | 0/10 [00:00<?, ?it/s]"
      ]
     },
     "metadata": {},
     "output_type": "display_data"
    }
   ],
   "source": [
    "tokenizer = AutoTokenizer.from_pretrained(\n",
    "    MODEL_PATH,\n",
    "    trust_remote_code=True,\n",
    "    encode_special_tokens=True\n",
    ")\n",
    "\n",
    "model = AutoModel.from_pretrained(\n",
    "    MODEL_PATH,\n",
    "    trust_remote_code=True,\n",
    "    # attn_implementation=\"flash_attention_2\", # Use Flash Attention\n",
    "    # torch_dtype=torch.bfloat16, #using flash-attn must use bfloat16 or float16\n",
    "    device_map=\"auto\").eval()"
   ]
  },
  {
   "cell_type": "code",
   "execution_count": 4,
   "id": "1c24e992-0eda-49cf-aa42-fa3f2c2f1a33",
   "metadata": {},
   "outputs": [],
   "source": [
    "class StopOnTokens(StoppingCriteria):\n",
    "    def __call__(self, input_ids: torch.LongTensor, scores: torch.FloatTensor, **kwargs) -> bool:\n",
    "        stop_ids = model.config.eos_token_id\n",
    "        for stop_id in stop_ids:\n",
    "            if input_ids[0][-1] == stop_id:\n",
    "                return True\n",
    "        return False\n",
    "\n",
    "def predict(messages):\n",
    "    stop = StopOnTokens()\n",
    "    model_inputs = tokenizer.apply_chat_template(messages,\n",
    "                                                 add_generation_prompt=True,\n",
    "                                                 tokenize=True,\n",
    "                                                 return_tensors=\"pt\").to(next(model.parameters()).device)\n",
    "    streamer = TextIteratorStreamer(tokenizer, timeout=60, skip_prompt=True, skip_special_tokens=True)\n",
    "    generate_kwargs = {\n",
    "        \"input_ids\": model_inputs,\n",
    "        \"streamer\": streamer,\n",
    "        \"max_new_tokens\": 512,\n",
    "        \"do_sample\": True,\n",
    "        \"top_p\": 0.8,\n",
    "        \"temperature\": 0.1,\n",
    "        \"stopping_criteria\": StoppingCriteriaList([stop]),\n",
    "        \"repetition_penalty\": 1.2,\n",
    "        \"eos_token_id\": model.config.eos_token_id,\n",
    "    }\n",
    "    t = Thread(target=model.generate, kwargs=generate_kwargs)\n",
    "    t.start()\n",
    "    result = ''\n",
    "    for new_token in streamer:\n",
    "        result += new_token\n",
    "        print(new_token, end='')\n",
    "    return result\n"
   ]
  },
  {
   "cell_type": "code",
   "execution_count": 5,
   "id": "c24f075a-f3a6-4b9c-a508-07bd51efa49b",
   "metadata": {},
   "outputs": [],
   "source": [
    "system_prompt = f\"\"\"\n",
    "你是一个经验丰富的呼吸科医生，擅长基于患者CAC（循环染色体异常细胞）与CTAI的检查结果进行分析与解读。以下是针对不同类别患者的参考意见：\\\n",
    "```\n",
    "情况1： CAC > 9, CTAI 结节风险 > 85%；分析解读参考: CAC、CTAI均在高风险区间，应选择积极治疗，特别是结节大小≥8mm，手术干预指征更强。如果结节＜8mm，或患者拒绝手术治疗时，可选择密切观察（每3个月复查胸部CT），随访过程中如有结节增大、密度增高、实性成分增加等，需再次建议患者积极治疗（手术切除）。当然，尽管CAC大于9，CTAI＞85%，提示肺结节恶性风险高危，但手术切除后病理依然存在良性结节的可能，虽然这种可能性比较小。\n",
    "情况2： CAC > 9, CTAI 结节风险 < 85%；分析解读参考: CAC高风险区间，CTAI未达高风险区间，建议抗炎治疗（两周）后3个月复查胸部CT，同时进行CTAI随访对比。如有结节增大、密度增高、实性成分增加等，可建议积极治疗，如果没有结节增大、密度增高、实性成分增加等，应对患者进行密切随访，每3个月复查胸部CT，连续3-4次，随访观察过程中出现结节恶性倾向增大（结节增大、密度增高、实性成分增加或出现下列征象一项以上时：结节分叶、毛刺、胸膜牵拉、血管集束、空泡征等，建议积极治疗。\n",
    "情况3： 3 ≤ CAC ≤ 9, CTAI 结节风险 > 85%；分析解读参考: CAC中高风险区间，CTAI高风险区间，应选择积极治疗。特别是结节大小≥8mm，手术干预指征更强，如果结节＜8mm，或患者拒绝手术治疗时，可选择密切观察（每3个月复查胸部CT），随访过程中如有结节增大、密度增高、实性成分增加等，需再次建议患者积极治疗（手术切除）。\n",
    "情况4： 3 ≤ CAC ≤ 9, CTAI 结节风险 < 85%；分析解读参考：CAC中高风险区间，CTAI未达高风险区间，应对患者进行定期随访，3-6个月复查胸部CT，同时CTAI进行随访对比分析。\n",
    "情况5： CAC < 3, CTAI 结节风险 > 85%；分析解读参考：CAC低风险区间，CTAI高风险区间，建议密切随访观察。每3个月复查胸部CT，同时进行CTAI随访对比，如有结节增大、密度增高、实性成分增加等，可建议积极治疗；如果没有结节增大、密度增高、实性成分增加等，应继续对患者进行密切随访，每3个月复查胸部CT，连续3-4次，随访观察过程中出现结节恶性倾向增大（结节增大、密度增高、实性成分增加或出现下列征象一项以上时：结节分叶、毛刺、胸膜牵拉、血管集束、空泡征等，建议积极治疗。\n",
    "情况6： CAC < 3, CTAI 结节风险 < 85%；分析解读参考：良性结节的可能性较大，建议年度体检，12个月复查胸部CT。如果结节大于15mm，或患者焦虑明显、要求治疗意愿明显，可考虑手术干预，但术后病理良性结节概率较高。\n",
    "```\n",
    "请依据上述信息，确认患者属于哪个情况。然后解读患者的CAC与CTAI检测结果，最后给患者提炼‘分析解读参考’中合适的建议。\n",
    "请简短回答。\n",
    "\"\"\""
   ]
  },
  {
   "cell_type": "code",
   "execution_count": 32,
   "id": "63fa3d1c-a62f-477e-9169-36569364b698",
   "metadata": {},
   "outputs": [
    {
     "name": "stdout",
     "output_type": "stream",
     "text": [
      "\n",
      "患者属于情况1。\n",
      "\n",
      "分析解读：\n",
      "尹玉梅女士的CAC值为20，远高于正常范围，表明其肺部结节的恶性风险很高。两个结节的CTAI风险等级分别为90%和80%，且均为高危险级别。其中，1号结节为混合型，直径达到15mm，已超过通常认为需要治疗的阈值（一般认为是8mm及以上）；2号结节虽较小（6mm），但其恶性行风险的CTAI评分也达到了80%。这些数据都强烈支持采取积极的医疗措施。\n",
      "\n",
      "建议：\n",
      "鉴于CAC值极高以及两个结节的高危CTAI评分，尤其是大结节的大小，尹玉梅女士应该接受积极的治疗，包括手术切除。对于1号结节，由于它已经很大并且具有很高的恶性风险，立即手术是必要的。对于2号结节，由于其较小的尺寸和高风险评分，也应考虑早期手术以预防潜在的恶化。在手术前可能需要进行进一步的评估和准备。如果患者因任何原因不愿意或不适合手术，则应根据具体情况制定其他治疗方案。"
     ]
    },
    {
     "data": {
      "text/plain": [
       "'\\n患者属于情况1。\\n\\n分析解读：\\n尹玉梅女士的CAC值为20，远高于正常范围，表明其肺部结节的恶性风险很高。两个结节的CTAI风险等级分别为90%和80%，且均为高危险级别。其中，1号结节为混合型，直径达到15mm，已超过通常认为需要治疗的阈值（一般认为是8mm及以上）；2号结节虽较小（6mm），但其恶性行风险的CTAI评分也达到了80%。这些数据都强烈支持采取积极的医疗措施。\\n\\n建议：\\n鉴于CAC值极高以及两个结节的高危CTAI评分，尤其是大结节的大小，尹玉梅女士应该接受积极的治疗，包括手术切除。对于1号结节，由于它已经很大并且具有很高的恶性风险，立即手术是必要的。对于2号结节，由于其较小的尺寸和高风险评分，也应考虑早期手术以预防潜在的恶化。在手术前可能需要进行进一步的评估和准备。如果患者因任何原因不愿意或不适合手术，则应根据具体情况制定其他治疗方案。'"
      ]
     },
     "execution_count": 32,
     "metadata": {},
     "output_type": "execute_result"
    }
   ],
   "source": [
    "messages_1 = []\n",
    "messages_1.append({\"role\":\"system\", \"content\":system_prompt})\n",
    "check_info_1 = \"\"\"\n",
    "患者姓名：尹玉梅；\n",
    "CAC: 20;\n",
    "CTAI: \n",
    "1号结节 恶性风险等级：90%；结节类型：混合型；结节大小：15mm, \n",
    "2号结节 恶行风险等级：80%；结节类型：磨玻璃型；结节大小：6mm；\n",
    "\"\"\"\n",
    "messages_1.append({\"role\":\"user\", \"content\":check_info_1})\n",
    "predict(messages_1)"
   ]
  },
  {
   "cell_type": "code",
   "execution_count": 33,
   "id": "a9329ea6-91cf-43b3-9ec7-459087171e3a",
   "metadata": {},
   "outputs": [
    {
     "name": "stdout",
     "output_type": "stream",
     "text": [
      "\n",
      "患者属于情况5。\n",
      "\n",
      "解析：\n",
      "- CAC为3，处于低风险区间。\n",
      "- 所有三个结节的CTAI恶性风险等级都超过85%。\n",
      "\n",
      "建议：\n",
      "- 密切随访观察，每3个月复查胸部CT。\n",
      "- 如有结节增大、密度增高、实性成分增加等变化，建议积极治疗。\n",
      "- 随访过程中如发现结节恶性倾向增大（包括结节增大、密度增高、实性成分增加或出现分叶、毛刺、胸膜牵拉、血管集束、空泡征等），建议积极治疗。\n",
      "- 由于两个大结节（15mm和6mm）的恶性风险高且体积较大，可能需要更积极的监测和治疗策略，甚至考虑早期手术干预。"
     ]
    },
    {
     "data": {
      "text/plain": [
       "'\\n患者属于情况5。\\n\\n解析：\\n- CAC为3，处于低风险区间。\\n- 所有三个结节的CTAI恶性风险等级都超过85%。\\n\\n建议：\\n- 密切随访观察，每3个月复查胸部CT。\\n- 如有结节增大、密度增高、实性成分增加等变化，建议积极治疗。\\n- 随访过程中如发现结节恶性倾向增大（包括结节增大、密度增高、实性成分增加或出现分叶、毛刺、胸膜牵拉、血管集束、空泡征等），建议积极治疗。\\n- 由于两个大结节（15mm和6mm）的恶性风险高且体积较大，可能需要更积极的监测和治疗策略，甚至考虑早期手术干预。'"
      ]
     },
     "execution_count": 33,
     "metadata": {},
     "output_type": "execute_result"
    }
   ],
   "source": [
    "messages_2 = []\n",
    "messages_2.append({\"role\":\"system\", \"content\":system_prompt})\n",
    "check_info_2 = \"\"\"\n",
    "患者姓名：弓淑琴；\n",
    "CAC: 3;\n",
    "CTAI: \n",
    "1号结节 恶性风险等级：90%；结节类型：磨玻璃型；结节位置：右肺下叶；结节大小：15mm, \n",
    "2号结节 恶性风险等级：90%；结节类型：磨玻璃型；结节位置：左肺上叶；结节大小：6mm；\n",
    "3号结节 恶性风险等级：88%；结节类型：混合型；结节位置：右肺下叶；结节大小：4mm, \n",
    "\"\"\"\n",
    "messages_2.append({\"role\":\"user\", \"content\":check_info_2})\n",
    "predict(messages_2)"
   ]
  },
  {
   "cell_type": "code",
   "execution_count": 31,
   "id": "cc79637b-17b6-41e0-90f6-33aa37ea0f2e",
   "metadata": {},
   "outputs": [
    {
     "name": "stdout",
     "output_type": "stream",
     "text": [
      "\n",
      "根据提供的信息：\n",
      "\n",
      "**患者所属情况：**\n",
      "情况4：3 ≤ CAC ≤ 9, CTAI 结节风险 < 85%\n",
      "\n",
      "**分析解读参考：**\n",
      "\n",
      "患者弓淑琴的CAC为5，处于中等风险区间，而1号结节的恶行风险等级为23%，低于85%。由于CAC在中风险范围且CTAI结节风险也较低，建议对弓淑琴进行以下处理：\n",
      "\n",
      "* 定期随访：每隔3至6个月复查一次胸部CT扫描，以监测结节的变化。\n",
      "* 密切观察：在随访期间密切关注结节的大小、形态和密度变化。\n",
      "* 如有恶化迹象：若发现结节增大、密度增高或有其他恶性特征如分叶、毛刺等，应及时评估并可能需要进一步的诊断和治疗。\n",
      "\n",
      "**具体建议：**\n",
      "建议弓淑琴每3到6个月进行一次胸部CT扫描，持续监测右肺上叶的实性结节。若无任何恶化迹象，则继续保持密切随访。若有任何可疑变化，及时咨询医生并进行进一步评估。"
     ]
    },
    {
     "data": {
      "text/plain": [
       "'\\n根据提供的信息：\\n\\n**患者所属情况：**\\n情况4：3 ≤ CAC ≤ 9, CTAI 结节风险 < 85%\\n\\n**分析解读参考：**\\n\\n患者弓淑琴的CAC为5，处于中等风险区间，而1号结节的恶行风险等级为23%，低于85%。由于CAC在中风险范围且CTAI结节风险也较低，建议对弓淑琴进行以下处理：\\n\\n* 定期随访：每隔3至6个月复查一次胸部CT扫描，以监测结节的变化。\\n* 密切观察：在随访期间密切关注结节的大小、形态和密度变化。\\n* 如有恶化迹象：若发现结节增大、密度增高或有其他恶性特征如分叶、毛刺等，应及时评估并可能需要进一步的诊断和治疗。\\n\\n**具体建议：**\\n建议弓淑琴每3到6个月进行一次胸部CT扫描，持续监测右肺上叶的实性结节。若无任何恶化迹象，则继续保持密切随访。若有任何可疑变化，及时咨询医生并进行进一步评估。'"
      ]
     },
     "execution_count": 31,
     "metadata": {},
     "output_type": "execute_result"
    }
   ],
   "source": [
    "messages_3 = []\n",
    "messages_3.append({\"role\":\"system\", \"content\":system_prompt})\n",
    "check_info_3 = \"\"\"\n",
    "患者姓名：弓淑琴；\n",
    "CAC: 5;\n",
    "CTAI: \n",
    "1号结节 恶性风险等级：23%；结节类型：实性结节；结节位置：右肺上叶；\n",
    "\"\"\"\n",
    "messages_3.append({\"role\":\"user\", \"content\":check_info_3})\n",
    "predict(messages_3)"
   ]
  },
  {
   "cell_type": "code",
   "execution_count": 34,
   "id": "d81ae87e-4ea2-4668-a900-cb73efd4cc11",
   "metadata": {},
   "outputs": [
    {
     "name": "stdout",
     "output_type": "stream",
     "text": [
      "\n",
      "患者属于情况6。\n",
      "\n",
      "解析：\n",
      "- CAC为0，表示循环染色体异常细胞的数量很低，处于低风险区间。\n",
      "- 所有结节的恶行风险概率为1%，低于85%，说明CTAI也处于低风险区间。\n",
      "\n",
      "根据“分析解读参考”的建议：\n",
      "- 建议张学阳先生进行年度体检，并每隔12个月复查一次胸部CT。\n",
      "- 如果结节直径超过15毫米，或者患者表现出明显的焦虑和强烈的治疗愿望，可以考虑手术干预。\n",
      "- 由于术后病理显示良性结节的概率较高，因此在这种情况下，通常不会立即推荐积极的手术治疗。"
     ]
    },
    {
     "data": {
      "text/plain": [
       "'\\n患者属于情况6。\\n\\n解析：\\n- CAC为0，表示循环染色体异常细胞的数量很低，处于低风险区间。\\n- 所有结节的恶行风险概率为1%，低于85%，说明CTAI也处于低风险区间。\\n\\n根据“分析解读参考”的建议：\\n- 建议张学阳先生进行年度体检，并每隔12个月复查一次胸部CT。\\n- 如果结节直径超过15毫米，或者患者表现出明显的焦虑和强烈的治疗愿望，可以考虑手术干预。\\n- 由于术后病理显示良性结节的概率较高，因此在这种情况下，通常不会立即推荐积极的手术治疗。'"
      ]
     },
     "execution_count": 34,
     "metadata": {},
     "output_type": "execute_result"
    }
   ],
   "source": [
    "messages_4 = []\n",
    "messages_4.append({\"role\":\"system\", \"content\":system_prompt})\n",
    "check_info_4 = \"\"\"\n",
    "患者姓名：张学阳；\n",
    "CAC: 0;\n",
    "CTAI: \n",
    "所有结节 恶行风险概率：1%；\n",
    "\"\"\"\n",
    "messages_4.append({\"role\":\"user\", \"content\":check_info_4})\n",
    "predict(messages_4)"
   ]
  },
  {
   "cell_type": "code",
   "execution_count": 7,
   "id": "50252032-6476-49d9-8982-9593d387c8a7",
   "metadata": {},
   "outputs": [
    {
     "name": "stdout",
     "output_type": "stream",
     "text": [
      "\n",
      "患者属于情况5。\n",
      "\n",
      "解析：\n",
      "- CAC为12，处于低风险区间（<3）。\n",
      "- 1号结节的CTAI恶性风险等级为57%，低于85%的高风险阈值。\n",
      "\n",
      "建议：\n",
      "- 密切随访观察，每3个月复查胸部CT。\n",
      "- 进行CTAI随访对比，监测结节变化。\n",
      "- 如果发现结节增大、密度增高、实性成分增加或有以下恶性行为特征之一：结节分叶、毛刺、胸膜牵拉、血管集束、空泡征等，建议积极治疗。\n",
      "- 如无上述改变，持续随访，连续3-4次复查未见恶化趋势，则可能保持现状。"
     ]
    },
    {
     "data": {
      "text/plain": [
       "'\\n患者属于情况5。\\n\\n解析：\\n- CAC为12，处于低风险区间（<3）。\\n- 1号结节的CTAI恶性风险等级为57%，低于85%的高风险阈值。\\n\\n建议：\\n- 密切随访观察，每3个月复查胸部CT。\\n- 进行CTAI随访对比，监测结节变化。\\n- 如果发现结节增大、密度增高、实性成分增加或有以下恶性行为特征之一：结节分叶、毛刺、胸膜牵拉、血管集束、空泡征等，建议积极治疗。\\n- 如无上述改变，持续随访，连续3-4次复查未见恶化趋势，则可能保持现状。'"
      ]
     },
     "execution_count": 7,
     "metadata": {},
     "output_type": "execute_result"
    }
   ],
   "source": [
    "messages_2 = []\n",
    "messages_2.append({\"role\":\"system\", \"content\":system_prompt})\n",
    "check_info_2 = \"\"\"\n",
    "患者姓名：刘贵玲；\n",
    "CAC: 12;\n",
    "CTAI: \n",
    "1号结节 恶性风险等级：57%；结节类型：磨玻璃结节；结节大小：6.4mm；\n",
    "\"\"\"\n",
    "messages_2.append({\"role\":\"user\", \"content\":check_info_2})\n",
    "predict(messages_2)"
   ]
  },
  {
   "cell_type": "code",
   "execution_count": 10,
   "id": "e86040d3-84e3-4ca6-86be-e545a75704a9",
   "metadata": {},
   "outputs": [
    {
     "name": "stdout",
     "output_type": "stream",
     "text": [
      "\n",
      "患者属于情况5。\n",
      "\n",
      "分析解读：\n",
      "患者CAC为2，处于低风险区间；两个结节的CTAI分别为56%和61%，都低于85%。第一个结节是实性结节，大小8.7mm；第二个结节是混合型结节，大小5.5mm。\n",
      "\n",
      "建议：\n",
      "由于CAC低风险且两个结节的风险也较低，建议对衡凤英女士进行密切随访观察。具体包括每3个月复查一次胸部CT，并持续监测结节的变化。如果有以下任何一种情况发生，如结节增大、密度增高、实性成分增加，或者出现结节分叶、毛刺、胸膜牵拉、血管集束、空泡征等恶性倾向增大的迹象，则应及时建议进一步的治疗。在没有这些变化的情况下，可以继续保持密切随访。对于小于8mm的小结节，通常不需要立即处理，除非有其他临床担忧。"
     ]
    },
    {
     "data": {
      "text/plain": [
       "'\\n患者属于情况5。\\n\\n分析解读：\\n患者CAC为2，处于低风险区间；两个结节的CTAI分别为56%和61%，都低于85%。第一个结节是实性结节，大小8.7mm；第二个结节是混合型结节，大小5.5mm。\\n\\n建议：\\n由于CAC低风险且两个结节的风险也较低，建议对衡凤英女士进行密切随访观察。具体包括每3个月复查一次胸部CT，并持续监测结节的变化。如果有以下任何一种情况发生，如结节增大、密度增高、实性成分增加，或者出现结节分叶、毛刺、胸膜牵拉、血管集束、空泡征等恶性倾向增大的迹象，则应及时建议进一步的治疗。在没有这些变化的情况下，可以继续保持密切随访。对于小于8mm的小结节，通常不需要立即处理，除非有其他临床担忧。'"
      ]
     },
     "execution_count": 10,
     "metadata": {},
     "output_type": "execute_result"
    }
   ],
   "source": [
    "messages_3 = []\n",
    "messages_3.append({\"role\":\"system\", \"content\":system_prompt})\n",
    "check_info_3 = \"\"\"\n",
    "患者姓名：衡凤英；\n",
    "CAC: 2;\n",
    "CTAI: \n",
    "1号结节 结节风险：56%；结节类型：实性结节；结节大小：8.7mm；\n",
    "2号结节 结节风险：61%；结节类型：混合型结节；结节大小：5.5mm；\n",
    "\"\"\"\n",
    "messages_3.append({\"role\":\"user\", \"content\":check_info_3})\n",
    "predict(messages_3)"
   ]
  },
  {
   "cell_type": "code",
   "execution_count": 11,
   "id": "e291d969-7cc4-4931-bf34-385d6b68ddc5",
   "metadata": {},
   "outputs": [
    {
     "name": "stdout",
     "output_type": "stream",
     "text": [
      "\n",
      "患者属于情况6。\n",
      "\n",
      "解析：\n",
      "- 患者的CAC为0，处于低风险区间。\n",
      "- 对于两个结节，第一个结节的CTAI结节风险为0%，第二个结节的CTAI结节风险为1%。两者都低于85%的高风险阈值。\n",
      "\n",
      "建议：\n",
      "- 良性结节的可能性较大，建议年度体检，12个月复查胸部CT。\n",
      "- 如果结节在随诊期间无变化且小于15mm，可以继续保持监测状态。\n",
      "- 若结节超过15mm或者患者有明显的焦虑和强烈的治疗愿望，可以考虑手术干预，因为术后病理显示良性结节的概率较高。"
     ]
    },
    {
     "data": {
      "text/plain": [
       "'\\n患者属于情况6。\\n\\n解析：\\n- 患者的CAC为0，处于低风险区间。\\n- 对于两个结节，第一个结节的CTAI结节风险为0%，第二个结节的CTAI结节风险为1%。两者都低于85%的高风险阈值。\\n\\n建议：\\n- 良性结节的可能性较大，建议年度体检，12个月复查胸部CT。\\n- 如果结节在随诊期间无变化且小于15mm，可以继续保持监测状态。\\n- 若结节超过15mm或者患者有明显的焦虑和强烈的治疗愿望，可以考虑手术干预，因为术后病理显示良性结节的概率较高。'"
      ]
     },
     "execution_count": 11,
     "metadata": {},
     "output_type": "execute_result"
    }
   ],
   "source": [
    "messages_4 = []\n",
    "messages_4.append({\"role\":\"system\", \"content\":system_prompt})\n",
    "check_info_4 = \"\"\"\n",
    "患者姓名：张学阳；\n",
    "CAC: 0;\n",
    "CTAI: \n",
    "1号结节 结节风险：0%；结节类型：实性结节；结节大小：8.7mm；\n",
    "2号结节 结节风险：1%；结节类型：混合型结节；结节大小：9mm；\n",
    "\"\"\"\n",
    "messages_4.append({\"role\":\"user\", \"content\":check_info_4})\n",
    "predict(messages_4)"
   ]
  },
  {
   "cell_type": "code",
   "execution_count": 12,
   "id": "9df45598-b292-4378-baac-21945e8cf7d2",
   "metadata": {},
   "outputs": [
    {
     "name": "stdout",
     "output_type": "stream",
     "text": [
      "\n",
      "患者属于情况5。\n",
      "\n",
      "解析：\n",
      "- 患者的CAC为0，处于低风险区间。\n",
      "- CTAI显示1号结节的结节风险为89%，达到高风险区间。\n",
      "\n",
      "根据情况5的分析解读参考：\n",
      "建议密切随访观察。每3个月复查胸部CT，同时进行CTAI随访对比。如有结节增大、密度增高、实性成分增加等，可建议积极治疗；如果没有这些变化，应继续对患者进行密切随访，每3个月复查胸部CT，连续3-4次。在随访观察过程中，若发现结节有恶性倾向增大的迹象（如结节增大、密度增高、实性成分增加或出现结节分叶、毛刺、胸膜牵拉、血管集束、空泡征等），则建议积极治疗。"
     ]
    },
    {
     "data": {
      "text/plain": [
       "'\\n患者属于情况5。\\n\\n解析：\\n- 患者的CAC为0，处于低风险区间。\\n- CTAI显示1号结节的结节风险为89%，达到高风险区间。\\n\\n根据情况5的分析解读参考：\\n建议密切随访观察。每3个月复查胸部CT，同时进行CTAI随访对比。如有结节增大、密度增高、实性成分增加等，可建议积极治疗；如果没有这些变化，应继续对患者进行密切随访，每3个月复查胸部CT，连续3-4次。在随访观察过程中，若发现结节有恶性倾向增大的迹象（如结节增大、密度增高、实性成分增加或出现结节分叶、毛刺、胸膜牵拉、血管集束、空泡征等），则建议积极治疗。'"
      ]
     },
     "execution_count": 12,
     "metadata": {},
     "output_type": "execute_result"
    }
   ],
   "source": [
    "messages_5 = []\n",
    "messages_5.append({\"role\":\"system\", \"content\":system_prompt})\n",
    "check_info_5 = \"\"\"\n",
    "患者姓名：张凤玲；\n",
    "CAC: 0;\n",
    "CTAI: \n",
    "1号结节 结节风险：89%；结节类型：混合型结节；结节大小：8.7mm；\n",
    "\"\"\"\n",
    "messages_5.append({\"role\":\"user\", \"content\":check_info_5})\n",
    "predict(messages_5)"
   ]
  },
  {
   "cell_type": "code",
   "execution_count": 13,
   "id": "d677fb3b-0a48-45f8-84c8-0bf9f6c57169",
   "metadata": {},
   "outputs": [
    {
     "name": "stdout",
     "output_type": "stream",
     "text": [
      "\n",
      "患者属于情况5。\n",
      "\n",
      "解析：\n",
      "- 患者的CAC为4，处于低风险区间。\n",
      "- 第一个结节的CTAI结节风险为93%，第二个结节的CTAI结节风险为67%，两者都高于85%的高风险阈值。\n",
      "\n",
      "根据情况5的分析解读参考：\n",
      "\n",
      "建议：\n",
      "- 建议密切随访观察，每3个月复查胸部CT，同时进行CTAI随访对比。\n",
      "- 如有结节增大、密度增高、实性成分增加等变化，可建议积极治疗。\n",
      "- 如果没有这些变化，应继续对患者进行密切随访，每3个月复查一次胸部CT，连续3-4次。\n",
      "- 随访过程中如发现结节恶性倾向增大的迹象（包括结节增大、密度增高、实性成分增加或出现分叶、毛刺、胸膜牵拉、血管集束、空泡征等），则建议积极治疗。"
     ]
    },
    {
     "data": {
      "text/plain": [
       "'\\n患者属于情况5。\\n\\n解析：\\n- 患者的CAC为4，处于低风险区间。\\n- 第一个结节的CTAI结节风险为93%，第二个结节的CTAI结节风险为67%，两者都高于85%的高风险阈值。\\n\\n根据情况5的分析解读参考：\\n\\n建议：\\n- 建议密切随访观察，每3个月复查胸部CT，同时进行CTAI随访对比。\\n- 如有结节增大、密度增高、实性成分增加等变化，可建议积极治疗。\\n- 如果没有这些变化，应继续对患者进行密切随访，每3个月复查一次胸部CT，连续3-4次。\\n- 随访过程中如发现结节恶性倾向增大的迹象（包括结节增大、密度增高、实性成分增加或出现分叶、毛刺、胸膜牵拉、血管集束、空泡征等），则建议积极治疗。'"
      ]
     },
     "execution_count": 13,
     "metadata": {},
     "output_type": "execute_result"
    }
   ],
   "source": [
    "messages_6 = []\n",
    "messages_6.append({\"role\":\"system\", \"content\":system_prompt})\n",
    "check_info_6 = \"\"\"\n",
    "患者姓名：陈德良；\n",
    "CAC: 4;\n",
    "CTAI: \n",
    "1号结节 结节风险：93%；结节类型：混合型结节；结节大小：15mm；\n",
    "2号结节 结节风险：67%；结节类型：实性结节；结节大小：8mm；\n",
    "\"\"\"\n",
    "messages_6.append({\"role\":\"user\", \"content\":check_info_6})\n",
    "predict(messages_6)"
   ]
  },
  {
   "cell_type": "code",
   "execution_count": 14,
   "id": "786710a5-0a65-455c-bb8d-6ee741be48cc",
   "metadata": {},
   "outputs": [
    {
     "name": "stdout",
     "output_type": "stream",
     "text": [
      "\n",
      "根据提供的信息，王改荣女士的情况符合以下分类：\n",
      "\n",
      "**情况3：3 ≤ CAC ≤ 9, CTAI 结节风险 > 85%**\n",
      "\n",
      "**分析解读参考：**\n",
      "- 患者的CAC为4，处于中高风险区间。\n",
      "- 1号结节的CTAI结节风险为77%，低于85%，但在逐渐接近高风险阈值。\n",
      "- 虽然CTAI风险目前未达到高值，但由于结节的大小和变化趋势，需要特别关注。\n",
      "\n",
      "**建议：**\n",
      "- 由于结节大小已超过8mm且体积有所增加，建议对王女士进行积极的临床管理。\n",
      "- 如果结节持续增长或有其他恶性的迹象（如密度增加），则可能需要进行进一步的评估，包括可能的活检或其他影像学检查。\n",
      "- 建议每3个月复查一次胸部CT以监测结节的变化。\n",
      "- 如有新的症状或结节特征恶化，应及时就医。"
     ]
    },
    {
     "data": {
      "text/plain": [
       "'\\n根据提供的信息，王改荣女士的情况符合以下分类：\\n\\n**情况3：3 ≤ CAC ≤ 9, CTAI 结节风险 > 85%**\\n\\n**分析解读参考：**\\n- 患者的CAC为4，处于中高风险区间。\\n- 1号结节的CTAI结节风险为77%，低于85%，但在逐渐接近高风险阈值。\\n- 虽然CTAI风险目前未达到高值，但由于结节的大小和变化趋势，需要特别关注。\\n\\n**建议：**\\n- 由于结节大小已超过8mm且体积有所增加，建议对王女士进行积极的临床管理。\\n- 如果结节持续增长或有其他恶性的迹象（如密度增加），则可能需要进行进一步的评估，包括可能的活检或其他影像学检查。\\n- 建议每3个月复查一次胸部CT以监测结节的变化。\\n- 如有新的症状或结节特征恶化，应及时就医。'"
      ]
     },
     "execution_count": 14,
     "metadata": {},
     "output_type": "execute_result"
    }
   ],
   "source": [
    "messages_7 = []\n",
    "messages_7.append({\"role\":\"system\", \"content\":system_prompt})\n",
    "check_info_7 = \"\"\"\n",
    "患者姓名：王改荣；\n",
    "CAC: 4;\n",
    "CTAI: \n",
    "1号结节 结节风险：77%；结节类型：混合型结节；结节大小：11mm，与2月22相比，风险降低，体积增加13%，密度降低22%，体积倍增时间698天；\n",
    "\"\"\"\n",
    "messages_7.append({\"role\":\"user\", \"content\":check_info_7})\n",
    "predict(messages_7)"
   ]
  },
  {
   "cell_type": "code",
   "execution_count": 15,
   "id": "10f4d0f1-8b31-4c75-b45a-6c61e1ca0c0a",
   "metadata": {},
   "outputs": [
    {
     "name": "stdout",
     "output_type": "stream",
     "text": [
      "\n",
      "患者属于情况1。\n",
      "\n",
      "解析：\n",
      "- CAC值为10，处于高风险区间。\n",
      "- CTAI显示1号结节的结节风险为70%，低于85%的高风险阈值，但由于该结节为新发现且大小达到11mm，结合其混合型和随时间增大的特点，需要按照高风险处理。\n",
      "\n",
      "建议：\n",
      "- 由于CAC和CTAI均指示有较高的恶性风险，尤其是结节大小已超过8mm，建议积极治疗，包括手术干预以排除恶性肿瘤的可能性。\n",
      "- 如果患者同意，应尽快安排手术切除结节。\n",
      "- 若患者拒绝手术治疗，则应密切监测结节的变化，每3个月复查一次胸部CT，并注意观察结节是否增大、密度增高、实性成分增加或其他恶性的迹象如分叶、毛刺等。\n",
      "- 随访期间若出现任何恶性特征，应及时调整治疗方案至积极的手术治疗。"
     ]
    },
    {
     "data": {
      "text/plain": [
       "'\\n患者属于情况1。\\n\\n解析：\\n- CAC值为10，处于高风险区间。\\n- CTAI显示1号结节的结节风险为70%，低于85%的高风险阈值，但由于该结节为新发现且大小达到11mm，结合其混合型和随时间增大的特点，需要按照高风险处理。\\n\\n建议：\\n- 由于CAC和CTAI均指示有较高的恶性风险，尤其是结节大小已超过8mm，建议积极治疗，包括手术干预以排除恶性肿瘤的可能性。\\n- 如果患者同意，应尽快安排手术切除结节。\\n- 若患者拒绝手术治疗，则应密切监测结节的变化，每3个月复查一次胸部CT，并注意观察结节是否增大、密度增高、实性成分增加或其他恶性的迹象如分叶、毛刺等。\\n- 随访期间若出现任何恶性特征，应及时调整治疗方案至积极的手术治疗。'"
      ]
     },
     "execution_count": 15,
     "metadata": {},
     "output_type": "execute_result"
    }
   ],
   "source": [
    "messages_8 = []\n",
    "messages_8.append({\"role\":\"system\", \"content\":system_prompt})\n",
    "check_info_8 = \"\"\"\n",
    "患者姓名：张爱霞；\n",
    "CAC: 10;\n",
    "CTAI: \n",
    "1号结节 结节风险：70%；结节类型：混合型结节；结节大小：11mm，较3月5日新发；\n",
    "随访相同结节都为低风险\n",
    "\"\"\"\n",
    "messages_8.append({\"role\":\"user\", \"content\":check_info_8})\n",
    "predict(messages_8)"
   ]
  },
  {
   "cell_type": "code",
   "execution_count": 16,
   "id": "1e85342b-e969-40ad-bc4a-f0b61ec431a9",
   "metadata": {},
   "outputs": [
    {
     "name": "stdout",
     "output_type": "stream",
     "text": [
      "\n",
      "患者属于情况5。\n",
      "\n",
      "解析：\n",
      "- 患者的CAC为3，处于低风险区间。\n",
      "- 所有三个结节的CTAI结节风险均为高值（>85%），表明结节具有高度恶性的可能。\n",
      "\n",
      "建议：\n",
      "- 建议密切随访观察，每3个月复查胸部CT，同时进行CTAI随访对比。\n",
      "- 如有结节增大、密度增高、实性成分增加等变化，应及时评估并考虑积极治疗措施。\n",
      "- 由于所有结节均有较高的恶性风险，尤其是最大结节已达到15mm且为混合型结节，强烈推荐进一步临床评估和可能的活检以确定其性质。如果患者同意，可以考虑早期手术干预。"
     ]
    },
    {
     "data": {
      "text/plain": [
       "'\\n患者属于情况5。\\n\\n解析：\\n- 患者的CAC为3，处于低风险区间。\\n- 所有三个结节的CTAI结节风险均为高值（>85%），表明结节具有高度恶性的可能。\\n\\n建议：\\n- 建议密切随访观察，每3个月复查胸部CT，同时进行CTAI随访对比。\\n- 如有结节增大、密度增高、实性成分增加等变化，应及时评估并考虑积极治疗措施。\\n- 由于所有结节均有较高的恶性风险，尤其是最大结节已达到15mm且为混合型结节，强烈推荐进一步临床评估和可能的活检以确定其性质。如果患者同意，可以考虑早期手术干预。'"
      ]
     },
     "execution_count": 16,
     "metadata": {},
     "output_type": "execute_result"
    }
   ],
   "source": [
    "messages_9 = []\n",
    "messages_9.append({\"role\":\"system\", \"content\":system_prompt})\n",
    "check_info_9 = \"\"\"\n",
    "患者姓名：弓淑琴；\n",
    "CAC: 3;\n",
    "CTAI: \n",
    "1号结节 结节风险：90%；结节类型：磨玻璃结节；结节大小：12mm；\n",
    "2号结节 结节风险：90%；结节类型：磨玻璃结节；结节大小：8mm\n",
    "3号结节 结节风险：88%；结节类型：混合型结节；结节大小：15mm\n",
    "\"\"\"\n",
    "messages_9.append({\"role\":\"user\", \"content\":check_info_9})\n",
    "predict(messages_9)"
   ]
  },
  {
   "cell_type": "code",
   "execution_count": 17,
   "id": "92589bce-7497-4363-9f4c-d952c70880be",
   "metadata": {},
   "outputs": [
    {
     "name": "stdout",
     "output_type": "stream",
     "text": [
      "\n",
      "患者属于情况4。\n",
      "\n",
      "解析：\n",
      "- 患者的CAC为5，处于3至9的中风险区间。\n",
      "- CTAI显示1号结节的结节风险为23%，低于85%的高风险阈值。\n",
      "\n",
      "建议：\n",
      "- 对患者进行定期随访，建议每3-6个月复查一次胸部CT。\n",
      "- 同时对CTAI进行持续监测和对比分析。\n",
      "- 如果在随访期间发现结节有增大、密度增高、实性成分增加或其他可疑特征（如分叶、毛刺、胸膜牵拉、血管集束、空泡征等），应及时评估并可能需要进一步的诊断和治疗措施。"
     ]
    },
    {
     "data": {
      "text/plain": [
       "'\\n患者属于情况4。\\n\\n解析：\\n- 患者的CAC为5，处于3至9的中风险区间。\\n- CTAI显示1号结节的结节风险为23%，低于85%的高风险阈值。\\n\\n建议：\\n- 对患者进行定期随访，建议每3-6个月复查一次胸部CT。\\n- 同时对CTAI进行持续监测和对比分析。\\n- 如果在随访期间发现结节有增大、密度增高、实性成分增加或其他可疑特征（如分叶、毛刺、胸膜牵拉、血管集束、空泡征等），应及时评估并可能需要进一步的诊断和治疗措施。'"
      ]
     },
     "execution_count": 17,
     "metadata": {},
     "output_type": "execute_result"
    }
   ],
   "source": [
    "messages_10 = []\n",
    "messages_10.append({\"role\":\"system\", \"content\":system_prompt})\n",
    "check_info_10 = \"\"\"\n",
    "患者姓名：王向阳；\n",
    "CAC: 5;\n",
    "CTAI: \n",
    "1号结节 结节风险：23%；结节类型：实性结节；结节大小：12mm；\n",
    "\"\"\"\n",
    "messages_10.append({\"role\":\"user\", \"content\":check_info_10})\n",
    "predict(messages_10)"
   ]
  },
  {
   "cell_type": "code",
   "execution_count": null,
   "id": "ba12273a-566b-4cf1-8c5f-9ef87440cb92",
   "metadata": {},
   "outputs": [],
   "source": []
  }
 ],
 "metadata": {
  "kernelspec": {
   "display_name": "llama_factory",
   "language": "python",
   "name": "llama_factory"
  },
  "language_info": {
   "codemirror_mode": {
    "name": "ipython",
    "version": 3
   },
   "file_extension": ".py",
   "mimetype": "text/x-python",
   "name": "python",
   "nbconvert_exporter": "python",
   "pygments_lexer": "ipython3",
   "version": "3.10.14"
  }
 },
 "nbformat": 4,
 "nbformat_minor": 5
}
